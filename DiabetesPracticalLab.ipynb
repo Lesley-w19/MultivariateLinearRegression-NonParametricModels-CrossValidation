{
 "cells": [
  {
   "cell_type": "markdown",
   "id": "7bed8614",
   "metadata": {},
   "source": [
    "# Practical Lab 2: Multivariate Linear Regression, Non-Parametric Models and Cross-Validation\n",
    "\n",
    "**Dataset:** Scikit-Learn Diabetes dataset\n",
    "\n",
    "**Objective:** Build models to predict the disease progression one year after baseline. Models include univariate polynomial regressions (BMI), multivariate polynomial models, Decision Trees, kNNs, and Logistic Regression classifiers (as a screening classifier). Evaluate using R², MAE, and MAPE; use a train/validation/test split."
   ]
  },
  {
   "cell_type": "markdown",
   "id": "e814641f",
   "metadata": {},
   "source": [
    "## 0. Imports and helper functions\n",
    "\n",
    "This cell loads packages and defines helper functions for metrics, plotting, and reproducibility."
   ]
  },
  {
   "cell_type": "code",
   "execution_count": 2,
   "id": "3ee6e9e7",
   "metadata": {},
   "outputs": [],
   "source": [
    "# Import all the necessary libraries\n",
    "import numpy as np\n",
    "import pandas as pd\n",
    "import matplotlib.pyplot as plt\n",
    "from sklearn import datasets\n",
    "from sklearn.model_selection import train_test_split\n",
    "from sklearn.preprocessing import PolynomialFeatures, StandardScaler\n",
    "from sklearn.pipeline import Pipeline\n",
    "from sklearn.linear_model import LinearRegression, LogisticRegression\n",
    "from sklearn.neighbors import KNeighborsRegressor, KNeighborsClassifier\n",
    "from sklearn.tree import DecisionTreeRegressor\n",
    "from sklearn.metrics import r2_score, mean_absolute_error, mean_squared_error, accuracy_score, precision_score, recall_score, f1_score\n",
    "import seaborn as sns"
   ]
  },
  {
   "cell_type": "code",
   "execution_count": 3,
   "id": "beee9ebc",
   "metadata": {},
   "outputs": [],
   "source": [
    "# import from utils.py\n",
    "from utils import RANDOM_STATE, mape, regression_metrics, plot_histograms, scatter_feature_target, plot_model_fit"
   ]
  },
  {
   "cell_type": "markdown",
   "id": "015bedf3",
   "metadata": {},
   "source": [
    "## Part 1: Data loading, problem framing, EDA, cleaning, and splits\n",
    "\n",
    "- Load the diabetes dataset from scikit-learn.\n",
    "- Frame the prediction problem: regression target is `disease progression one year after baseline`.\n",
    "- Perform EDA and split into train (75%), validation (10%), and test (15%)."
   ]
  },
  {
   "cell_type": "code",
   "execution_count": 4,
   "id": "18322a1d",
   "metadata": {},
   "outputs": [
    {
     "data": {
      "application/vnd.microsoft.datawrangler.viewer.v0+json": {
       "columns": [
        {
         "name": "index",
         "rawType": "int64",
         "type": "integer"
        },
        {
         "name": "age",
         "rawType": "float64",
         "type": "float"
        },
        {
         "name": "sex",
         "rawType": "float64",
         "type": "float"
        },
        {
         "name": "bmi",
         "rawType": "float64",
         "type": "float"
        },
        {
         "name": "bp",
         "rawType": "float64",
         "type": "float"
        },
        {
         "name": "s1",
         "rawType": "float64",
         "type": "float"
        },
        {
         "name": "s2",
         "rawType": "float64",
         "type": "float"
        },
        {
         "name": "s3",
         "rawType": "float64",
         "type": "float"
        },
        {
         "name": "s4",
         "rawType": "float64",
         "type": "float"
        },
        {
         "name": "s5",
         "rawType": "float64",
         "type": "float"
        },
        {
         "name": "s6",
         "rawType": "float64",
         "type": "float"
        },
        {
         "name": "target",
         "rawType": "float64",
         "type": "float"
        }
       ],
       "ref": "16a127ba-50c3-4d2b-8c1a-e609d7e57c7b",
       "rows": [
        [
         "0",
         "0.038075906433423026",
         "0.05068011873981862",
         "0.061696206518683294",
         "0.0218723855140367",
         "-0.04422349842444599",
         "-0.03482076283769895",
         "-0.04340084565202491",
         "-0.002592261998183278",
         "0.019907486170462722",
         "-0.01764612515980379",
         "151.0"
        ],
        [
         "1",
         "-0.0018820165277906047",
         "-0.044641636506989144",
         "-0.051474061238800654",
         "-0.02632752814785296",
         "-0.008448724111216851",
         "-0.019163339748222204",
         "0.07441156407875721",
         "-0.03949338287409329",
         "-0.0683315470939731",
         "-0.092204049626824",
         "75.0"
        ],
        [
         "2",
         "0.08529890629667548",
         "0.05068011873981862",
         "0.04445121333659049",
         "-0.00567042229275739",
         "-0.04559945128264711",
         "-0.03419446591411989",
         "-0.03235593223976409",
         "-0.002592261998183278",
         "0.002861309289833047",
         "-0.025930338989472702",
         "141.0"
        ],
        [
         "3",
         "-0.0890629393522567",
         "-0.044641636506989144",
         "-0.011595014505211082",
         "-0.03665608107540074",
         "0.01219056876179996",
         "0.02499059336410222",
         "-0.036037570043851025",
         "0.03430885887772673",
         "0.022687744966501246",
         "-0.009361911330134878",
         "206.0"
        ],
        [
         "4",
         "0.005383060374248237",
         "-0.044641636506989144",
         "-0.03638469220446948",
         "0.0218723855140367",
         "0.003934851612593237",
         "0.015596139510416171",
         "0.008142083605192267",
         "-0.002592261998183278",
         "-0.03198763948805312",
         "-0.04664087356364498",
         "135.0"
        ]
       ],
       "shape": {
        "columns": 11,
        "rows": 5
       }
      },
      "text/html": [
       "<div>\n",
       "<style scoped>\n",
       "    .dataframe tbody tr th:only-of-type {\n",
       "        vertical-align: middle;\n",
       "    }\n",
       "\n",
       "    .dataframe tbody tr th {\n",
       "        vertical-align: top;\n",
       "    }\n",
       "\n",
       "    .dataframe thead th {\n",
       "        text-align: right;\n",
       "    }\n",
       "</style>\n",
       "<table border=\"1\" class=\"dataframe\">\n",
       "  <thead>\n",
       "    <tr style=\"text-align: right;\">\n",
       "      <th></th>\n",
       "      <th>age</th>\n",
       "      <th>sex</th>\n",
       "      <th>bmi</th>\n",
       "      <th>bp</th>\n",
       "      <th>s1</th>\n",
       "      <th>s2</th>\n",
       "      <th>s3</th>\n",
       "      <th>s4</th>\n",
       "      <th>s5</th>\n",
       "      <th>s6</th>\n",
       "      <th>target</th>\n",
       "    </tr>\n",
       "  </thead>\n",
       "  <tbody>\n",
       "    <tr>\n",
       "      <th>0</th>\n",
       "      <td>0.038076</td>\n",
       "      <td>0.050680</td>\n",
       "      <td>0.061696</td>\n",
       "      <td>0.021872</td>\n",
       "      <td>-0.044223</td>\n",
       "      <td>-0.034821</td>\n",
       "      <td>-0.043401</td>\n",
       "      <td>-0.002592</td>\n",
       "      <td>0.019907</td>\n",
       "      <td>-0.017646</td>\n",
       "      <td>151.0</td>\n",
       "    </tr>\n",
       "    <tr>\n",
       "      <th>1</th>\n",
       "      <td>-0.001882</td>\n",
       "      <td>-0.044642</td>\n",
       "      <td>-0.051474</td>\n",
       "      <td>-0.026328</td>\n",
       "      <td>-0.008449</td>\n",
       "      <td>-0.019163</td>\n",
       "      <td>0.074412</td>\n",
       "      <td>-0.039493</td>\n",
       "      <td>-0.068332</td>\n",
       "      <td>-0.092204</td>\n",
       "      <td>75.0</td>\n",
       "    </tr>\n",
       "    <tr>\n",
       "      <th>2</th>\n",
       "      <td>0.085299</td>\n",
       "      <td>0.050680</td>\n",
       "      <td>0.044451</td>\n",
       "      <td>-0.005670</td>\n",
       "      <td>-0.045599</td>\n",
       "      <td>-0.034194</td>\n",
       "      <td>-0.032356</td>\n",
       "      <td>-0.002592</td>\n",
       "      <td>0.002861</td>\n",
       "      <td>-0.025930</td>\n",
       "      <td>141.0</td>\n",
       "    </tr>\n",
       "    <tr>\n",
       "      <th>3</th>\n",
       "      <td>-0.089063</td>\n",
       "      <td>-0.044642</td>\n",
       "      <td>-0.011595</td>\n",
       "      <td>-0.036656</td>\n",
       "      <td>0.012191</td>\n",
       "      <td>0.024991</td>\n",
       "      <td>-0.036038</td>\n",
       "      <td>0.034309</td>\n",
       "      <td>0.022688</td>\n",
       "      <td>-0.009362</td>\n",
       "      <td>206.0</td>\n",
       "    </tr>\n",
       "    <tr>\n",
       "      <th>4</th>\n",
       "      <td>0.005383</td>\n",
       "      <td>-0.044642</td>\n",
       "      <td>-0.036385</td>\n",
       "      <td>0.021872</td>\n",
       "      <td>0.003935</td>\n",
       "      <td>0.015596</td>\n",
       "      <td>0.008142</td>\n",
       "      <td>-0.002592</td>\n",
       "      <td>-0.031988</td>\n",
       "      <td>-0.046641</td>\n",
       "      <td>135.0</td>\n",
       "    </tr>\n",
       "  </tbody>\n",
       "</table>\n",
       "</div>"
      ],
      "text/plain": [
       "        age       sex       bmi        bp        s1        s2        s3  \\\n",
       "0  0.038076  0.050680  0.061696  0.021872 -0.044223 -0.034821 -0.043401   \n",
       "1 -0.001882 -0.044642 -0.051474 -0.026328 -0.008449 -0.019163  0.074412   \n",
       "2  0.085299  0.050680  0.044451 -0.005670 -0.045599 -0.034194 -0.032356   \n",
       "3 -0.089063 -0.044642 -0.011595 -0.036656  0.012191  0.024991 -0.036038   \n",
       "4  0.005383 -0.044642 -0.036385  0.021872  0.003935  0.015596  0.008142   \n",
       "\n",
       "         s4        s5        s6  target  \n",
       "0 -0.002592  0.019907 -0.017646   151.0  \n",
       "1 -0.039493 -0.068332 -0.092204    75.0  \n",
       "2 -0.002592  0.002861 -0.025930   141.0  \n",
       "3  0.034309  0.022688 -0.009362   206.0  \n",
       "4 -0.002592 -0.031988 -0.046641   135.0  "
      ]
     },
     "execution_count": 4,
     "metadata": {},
     "output_type": "execute_result"
    }
   ],
   "source": [
    "# Load dataset\n",
    "diabetes = datasets.load_diabetes(as_frame=True)\n",
    "X = diabetes.data.copy()\n",
    "y = diabetes.target.copy()\n",
    "# target: quantitative measure of disease progression one year after baseline\n",
    "diabetes_df = pd.concat([X, y.rename('target')], axis=1)\n",
    "diabetes_df.head()\n"
   ]
  },
  {
   "cell_type": "markdown",
   "id": "136384f8",
   "metadata": {},
   "source": [
    "### 1.1 Quick dataset description and framing the problem\n",
    "\n",
    "- **Features**: 10 baseline variables (age, sex, BMI, BP, and six blood serum measurements) — scaled by default in scikit-learn toy dataset.\n",
    "- **Target**: a quantitative measure of disease progression one year after baseline.\n",
    "\n",
    "**Problem framing:** a supervised regression problem. We want a model that takes patient baseline features and predicts the disease progression value. This could be used as a *screening* tool to highlight patients at risk—physicians would likely use it alongside clinical judgment and other tests.\n",
    "\n",
    "**Relevant talking points to add to the report (from workshops):**\n",
    "- **Performance Metrics (Regression/Classification):** Use R² to measure explained variance for regression; MAE gives interpretable error in same units as the target; MAPE expresses error relative to true values (percentage). For classification (screening), metrics such as accuracy, precision, recall, and F1 are important—especially recall (sensitivity) when missing high-risk patients is costly.\n",
    "- **K-Nearest Neighbour (KNN):** Simple, non-parametric; performance depends heavily on feature scaling and `k`. KNN for regression averages neighbor targets; for classification it votes. KNN's complexity grows with dataset size.\n",
    "- **Logistic Regression (Classifier):** Good baseline classifier for binary screening. Interpretable coefficients; works well when relationship is approximately linear in log-odds.\n"
   ]
  },
  {
   "cell_type": "code",
   "execution_count": 5,
   "id": "e24c10c4",
   "metadata": {},
   "outputs": [
    {
     "data": {
      "application/vnd.microsoft.datawrangler.viewer.v0+json": {
       "columns": [
        {
         "name": "index",
         "rawType": "object",
         "type": "string"
        },
        {
         "name": "count",
         "rawType": "float64",
         "type": "float"
        },
        {
         "name": "mean",
         "rawType": "float64",
         "type": "float"
        },
        {
         "name": "std",
         "rawType": "float64",
         "type": "float"
        },
        {
         "name": "min",
         "rawType": "float64",
         "type": "float"
        },
        {
         "name": "25%",
         "rawType": "float64",
         "type": "float"
        },
        {
         "name": "50%",
         "rawType": "float64",
         "type": "float"
        },
        {
         "name": "75%",
         "rawType": "float64",
         "type": "float"
        },
        {
         "name": "max",
         "rawType": "float64",
         "type": "float"
        }
       ],
       "ref": "77695267-ecde-490c-aa66-adef7b29f931",
       "rows": [
        [
         "age",
         "442.0",
         "-2.511816797794472e-19",
         "0.047619047619047644",
         "-0.1072256316073538",
         "-0.03729926642522996",
         "0.005383060374248237",
         "0.038075906433423026",
         "0.11072667545381144"
        ],
        [
         "sex",
         "442.0",
         "1.2307902309192911e-17",
         "0.047619047619047665",
         "-0.044641636506989144",
         "-0.044641636506989144",
         "-0.044641636506989144",
         "0.05068011873981862",
         "0.05068011873981862"
        ],
        [
         "bmi",
         "442.0",
         "-2.2455642172282577e-16",
         "0.047619047619047616",
         "-0.09027529589850945",
         "-0.03422906805670789",
         "-0.007283766209687899",
         "0.031248015431550695",
         "0.17055522598064407"
        ],
        [
         "bp",
         "442.0",
         "-4.7975700837874414e-17",
         "0.047619047619047596",
         "-0.11239880254408448",
         "-0.03665608107540074",
         "-0.00567042229275739",
         "0.03564378941743375",
         "0.13204361674121307"
        ],
        [
         "s1",
         "442.0",
         "-1.3814992387869595e-17",
         "0.04761904761904759",
         "-0.12678066991651324",
         "-0.03424784020248786",
         "-0.004320865536613489",
         "0.028358014845663134",
         "0.15391371315651542"
        ],
        [
         "s2",
         "442.0",
         "3.918434204559376e-17",
         "0.047619047619047644",
         "-0.11561306597939897",
         "-0.03035839725719808",
         "-0.0038190651205350003",
         "0.02984439452183999",
         "0.19878798965729408"
        ],
        [
         "s3",
         "442.0",
         "-5.7771786349272854e-18",
         "0.047619047619047596",
         "-0.10230705051741597",
         "-0.035117160592829294",
         "-0.006584467611155497",
         "0.02931150097869218",
         "0.18117906039727852"
        ],
        [
         "s4",
         "442.0",
         "-9.042540472060099e-18",
         "0.047619047619047616",
         "-0.0763945037500033",
         "-0.03949338287409329",
         "-0.002592261998183278",
         "0.03430885887772673",
         "0.18523444326019867"
        ],
        [
         "s5",
         "442.0",
         "9.293722151839546e-17",
         "0.047619047619047616",
         "-0.12609712083330468",
         "-0.03324559264822791",
         "-0.0019471710869220743",
         "0.03243232415655107",
         "0.13359728192191356"
        ],
        [
         "s6",
         "442.0",
         "1.1303175590075123e-17",
         "0.047619047619047644",
         "-0.13776722569000302",
         "-0.033179026090433",
         "-0.0010776975004659671",
         "0.027917050903375224",
         "0.13561183068907107"
        ],
        [
         "target",
         "442.0",
         "152.13348416289594",
         "77.09300453299109",
         "25.0",
         "87.0",
         "140.5",
         "211.5",
         "346.0"
        ]
       ],
       "shape": {
        "columns": 8,
        "rows": 11
       }
      },
      "text/html": [
       "<div>\n",
       "<style scoped>\n",
       "    .dataframe tbody tr th:only-of-type {\n",
       "        vertical-align: middle;\n",
       "    }\n",
       "\n",
       "    .dataframe tbody tr th {\n",
       "        vertical-align: top;\n",
       "    }\n",
       "\n",
       "    .dataframe thead th {\n",
       "        text-align: right;\n",
       "    }\n",
       "</style>\n",
       "<table border=\"1\" class=\"dataframe\">\n",
       "  <thead>\n",
       "    <tr style=\"text-align: right;\">\n",
       "      <th></th>\n",
       "      <th>count</th>\n",
       "      <th>mean</th>\n",
       "      <th>std</th>\n",
       "      <th>min</th>\n",
       "      <th>25%</th>\n",
       "      <th>50%</th>\n",
       "      <th>75%</th>\n",
       "      <th>max</th>\n",
       "    </tr>\n",
       "  </thead>\n",
       "  <tbody>\n",
       "    <tr>\n",
       "      <th>age</th>\n",
       "      <td>442.0</td>\n",
       "      <td>-2.511817e-19</td>\n",
       "      <td>0.047619</td>\n",
       "      <td>-0.107226</td>\n",
       "      <td>-0.037299</td>\n",
       "      <td>0.005383</td>\n",
       "      <td>0.038076</td>\n",
       "      <td>0.110727</td>\n",
       "    </tr>\n",
       "    <tr>\n",
       "      <th>sex</th>\n",
       "      <td>442.0</td>\n",
       "      <td>1.230790e-17</td>\n",
       "      <td>0.047619</td>\n",
       "      <td>-0.044642</td>\n",
       "      <td>-0.044642</td>\n",
       "      <td>-0.044642</td>\n",
       "      <td>0.050680</td>\n",
       "      <td>0.050680</td>\n",
       "    </tr>\n",
       "    <tr>\n",
       "      <th>bmi</th>\n",
       "      <td>442.0</td>\n",
       "      <td>-2.245564e-16</td>\n",
       "      <td>0.047619</td>\n",
       "      <td>-0.090275</td>\n",
       "      <td>-0.034229</td>\n",
       "      <td>-0.007284</td>\n",
       "      <td>0.031248</td>\n",
       "      <td>0.170555</td>\n",
       "    </tr>\n",
       "    <tr>\n",
       "      <th>bp</th>\n",
       "      <td>442.0</td>\n",
       "      <td>-4.797570e-17</td>\n",
       "      <td>0.047619</td>\n",
       "      <td>-0.112399</td>\n",
       "      <td>-0.036656</td>\n",
       "      <td>-0.005670</td>\n",
       "      <td>0.035644</td>\n",
       "      <td>0.132044</td>\n",
       "    </tr>\n",
       "    <tr>\n",
       "      <th>s1</th>\n",
       "      <td>442.0</td>\n",
       "      <td>-1.381499e-17</td>\n",
       "      <td>0.047619</td>\n",
       "      <td>-0.126781</td>\n",
       "      <td>-0.034248</td>\n",
       "      <td>-0.004321</td>\n",
       "      <td>0.028358</td>\n",
       "      <td>0.153914</td>\n",
       "    </tr>\n",
       "    <tr>\n",
       "      <th>s2</th>\n",
       "      <td>442.0</td>\n",
       "      <td>3.918434e-17</td>\n",
       "      <td>0.047619</td>\n",
       "      <td>-0.115613</td>\n",
       "      <td>-0.030358</td>\n",
       "      <td>-0.003819</td>\n",
       "      <td>0.029844</td>\n",
       "      <td>0.198788</td>\n",
       "    </tr>\n",
       "    <tr>\n",
       "      <th>s3</th>\n",
       "      <td>442.0</td>\n",
       "      <td>-5.777179e-18</td>\n",
       "      <td>0.047619</td>\n",
       "      <td>-0.102307</td>\n",
       "      <td>-0.035117</td>\n",
       "      <td>-0.006584</td>\n",
       "      <td>0.029312</td>\n",
       "      <td>0.181179</td>\n",
       "    </tr>\n",
       "    <tr>\n",
       "      <th>s4</th>\n",
       "      <td>442.0</td>\n",
       "      <td>-9.042540e-18</td>\n",
       "      <td>0.047619</td>\n",
       "      <td>-0.076395</td>\n",
       "      <td>-0.039493</td>\n",
       "      <td>-0.002592</td>\n",
       "      <td>0.034309</td>\n",
       "      <td>0.185234</td>\n",
       "    </tr>\n",
       "    <tr>\n",
       "      <th>s5</th>\n",
       "      <td>442.0</td>\n",
       "      <td>9.293722e-17</td>\n",
       "      <td>0.047619</td>\n",
       "      <td>-0.126097</td>\n",
       "      <td>-0.033246</td>\n",
       "      <td>-0.001947</td>\n",
       "      <td>0.032432</td>\n",
       "      <td>0.133597</td>\n",
       "    </tr>\n",
       "    <tr>\n",
       "      <th>s6</th>\n",
       "      <td>442.0</td>\n",
       "      <td>1.130318e-17</td>\n",
       "      <td>0.047619</td>\n",
       "      <td>-0.137767</td>\n",
       "      <td>-0.033179</td>\n",
       "      <td>-0.001078</td>\n",
       "      <td>0.027917</td>\n",
       "      <td>0.135612</td>\n",
       "    </tr>\n",
       "    <tr>\n",
       "      <th>target</th>\n",
       "      <td>442.0</td>\n",
       "      <td>1.521335e+02</td>\n",
       "      <td>77.093005</td>\n",
       "      <td>25.000000</td>\n",
       "      <td>87.000000</td>\n",
       "      <td>140.500000</td>\n",
       "      <td>211.500000</td>\n",
       "      <td>346.000000</td>\n",
       "    </tr>\n",
       "  </tbody>\n",
       "</table>\n",
       "</div>"
      ],
      "text/plain": [
       "        count          mean        std        min        25%         50%  \\\n",
       "age     442.0 -2.511817e-19   0.047619  -0.107226  -0.037299    0.005383   \n",
       "sex     442.0  1.230790e-17   0.047619  -0.044642  -0.044642   -0.044642   \n",
       "bmi     442.0 -2.245564e-16   0.047619  -0.090275  -0.034229   -0.007284   \n",
       "bp      442.0 -4.797570e-17   0.047619  -0.112399  -0.036656   -0.005670   \n",
       "s1      442.0 -1.381499e-17   0.047619  -0.126781  -0.034248   -0.004321   \n",
       "s2      442.0  3.918434e-17   0.047619  -0.115613  -0.030358   -0.003819   \n",
       "s3      442.0 -5.777179e-18   0.047619  -0.102307  -0.035117   -0.006584   \n",
       "s4      442.0 -9.042540e-18   0.047619  -0.076395  -0.039493   -0.002592   \n",
       "s5      442.0  9.293722e-17   0.047619  -0.126097  -0.033246   -0.001947   \n",
       "s6      442.0  1.130318e-17   0.047619  -0.137767  -0.033179   -0.001078   \n",
       "target  442.0  1.521335e+02  77.093005  25.000000  87.000000  140.500000   \n",
       "\n",
       "               75%         max  \n",
       "age       0.038076    0.110727  \n",
       "sex       0.050680    0.050680  \n",
       "bmi       0.031248    0.170555  \n",
       "bp        0.035644    0.132044  \n",
       "s1        0.028358    0.153914  \n",
       "s2        0.029844    0.198788  \n",
       "s3        0.029312    0.181179  \n",
       "s4        0.034309    0.185234  \n",
       "s5        0.032432    0.133597  \n",
       "s6        0.027917    0.135612  \n",
       "target  211.500000  346.000000  "
      ]
     },
     "execution_count": 5,
     "metadata": {},
     "output_type": "execute_result"
    }
   ],
   "source": [
    "diabetes_df.describe().T"
   ]
  },
  {
   "cell_type": "markdown",
   "id": "beecb006",
   "metadata": {},
   "source": [
    "### 1.2 EDA — Visuals and correlation\n",
    "We'll show histograms, a correlation matrix, and scatter plots for a few features (including BMI since Part 2 focuses on it)."
   ]
  },
  {
   "cell_type": "code",
   "execution_count": 6,
   "id": "14eaaf33",
   "metadata": {},
   "outputs": [
    {
     "data": {
      "image/png": "[encoded data removed]",
      "text/plain": [
       "<Figure size 1200x800 with 12 Axes>"
      ]
     },
     "metadata": {},
     "output_type": "display_data"
    }
   ],
   "source": [
    "plot_histograms(diabetes_df.drop(columns=['target']))"
   ]
  },
  {
   "cell_type": "code",
   "execution_count": 7,
   "id": "6db8a2e7",
   "metadata": {},
   "outputs": [
    {
     "data": {
      "image/png": "[encoded data removed]",
      "text/plain": [
       "<Figure size 600x400 with 1 Axes>"
      ]
     },
     "metadata": {},
     "output_type": "display_data"
    }
   ],
   "source": [
    "scatter_feature_target(diabetes_df, 'bmi', target='target')"
   ]
  },
  {
   "cell_type": "code",
   "execution_count": null,
   "id": "7a73ef30",
   "metadata": {},
   "outputs": [
    {
     "data": {
      "image/png": "[encoded data removed]",
      "text/plain": [
       "<Figure size 700x500 with 1 Axes>"
      ]
     },
     "metadata": {},
     "output_type": "display_data"
    }
   ],
   "source": [
    "# Visualize the relationship between disease progresssion and BMI\n",
    "plt.figure(figsize=(7,5))\n",
    "sns.scatterplot(x='bmi', y='target', data=diabetes_df, color='darkorange', alpha=0.7)\n",
    "plt.title('BMI vs Disease Progression After One Year')\n",
    "plt.xlabel('BMI')\n",
    "plt.ylabel('Disease Progression')\n",
    "plt.show()\n"
   ]
  },
  {
   "cell_type": "code",
   "execution_count": 9,
   "id": "10a14a46",
   "metadata": {},
   "outputs": [
    {
     "data": {
      "image/png": "[encoded data removed]",
      "text/plain": [
       "<Figure size 1000x800 with 2 Axes>"
      ]
     },
     "metadata": {},
     "output_type": "display_data"
    }
   ],
   "source": [
    "plt.figure(figsize=(10,8))\n",
    "sns.heatmap(diabetes_df.corr(), annot=True, fmt='.2f', cmap='coolwarm')\n",
    "plt.title('Correlation matrix')\n",
    "plt.show()"
   ]
  },
  {
   "cell_type": "markdown",
   "id": "da139e48",
   "metadata": {},
   "source": [
    "### 1.3 Data Cleaning"
   ]
  },
  {
   "cell_type": "code",
   "execution_count": 10,
   "id": "87ce3664",
   "metadata": {},
   "outputs": [
    {
     "data": {
      "application/vnd.microsoft.datawrangler.viewer.v0+json": {
       "columns": [
        {
         "name": "index",
         "rawType": "object",
         "type": "string"
        },
        {
         "name": "0",
         "rawType": "int64",
         "type": "integer"
        }
       ],
       "ref": "9c4b5f22-bbde-4945-b07d-28ecf47ca283",
       "rows": [
        [
         "age",
         "0"
        ],
        [
         "sex",
         "0"
        ],
        [
         "bmi",
         "0"
        ],
        [
         "bp",
         "0"
        ],
        [
         "s1",
         "0"
        ],
        [
         "s2",
         "0"
        ],
        [
         "s3",
         "0"
        ],
        [
         "s4",
         "0"
        ],
        [
         "s5",
         "0"
        ],
        [
         "s6",
         "0"
        ],
        [
         "target",
         "0"
        ]
       ],
       "shape": {
        "columns": 1,
        "rows": 11
       }
      },
      "text/plain": [
       "age       0\n",
       "sex       0\n",
       "bmi       0\n",
       "bp        0\n",
       "s1        0\n",
       "s2        0\n",
       "s3        0\n",
       "s4        0\n",
       "s5        0\n",
       "s6        0\n",
       "target    0\n",
       "dtype: int64"
      ]
     },
     "execution_count": 10,
     "metadata": {},
     "output_type": "execute_result"
    }
   ],
   "source": [
    "diabetes_df.isna().sum()"
   ]
  },
  {
   "cell_type": "markdown",
   "id": "ebf2f533",
   "metadata": {},
   "source": [
    "- The scikit-learn diabetes dataset is already cleaned. \n",
    "\n",
    "- No missing values present. \n",
    "\n",
    "- We'll keep features as-is; for some models we will standardize inside pipelines as needed."
   ]
  },
  {
   "cell_type": "code",
   "execution_count": 11,
   "id": "810e1996",
   "metadata": {},
   "outputs": [
    {
     "name": "stdout",
     "output_type": "stream",
     "text": [
      "<class 'pandas.core.frame.DataFrame'>\n",
      "RangeIndex: 442 entries, 0 to 441\n",
      "Data columns (total 11 columns):\n",
      " #   Column  Non-Null Count  Dtype  \n",
      "---  ------  --------------  -----  \n",
      " 0   age     442 non-null    float64\n",
      " 1   sex     442 non-null    float64\n",
      " 2   bmi     442 non-null    float64\n",
      " 3   bp      442 non-null    float64\n",
      " 4   s1      442 non-null    float64\n",
      " 5   s2      442 non-null    float64\n",
      " 6   s3      442 non-null    float64\n",
      " 7   s4      442 non-null    float64\n",
      " 8   s5      442 non-null    float64\n",
      " 9   s6      442 non-null    float64\n",
      " 10  target  442 non-null    float64\n",
      "dtypes: float64(11)\n",
      "memory usage: 38.1 KB\n"
     ]
    }
   ],
   "source": [
    "diabetes_df.info()"
   ]
  },
  {
   "cell_type": "markdown",
   "id": "6bf1fe11",
   "metadata": {},
   "source": [
    "### 1.4 Split the data"
   ]
  },
  {
   "cell_type": "markdown",
   "id": "422c515d",
   "metadata": {},
   "source": [
    "💬 Talkng Point 1: Splitting the Data\n",
    "- **Team Members:** Lesley Kamamo and Albright Maduka\n",
    "\n",
    "We divide the dataset into Train (75%), Validation (10%), and Test (15%) to make sure our model was trained and tested fairly.\n",
    "- The training set teaches the model how features like BMI, age, and blood pressure relate to disease progression.\n",
    "- The validation set helps us compare different models and pick the one that generalizes best.\n",
    "- The test set is kept separate until the end — it represents completely new patient data."
   ]
  },
  {
   "cell_type": "markdown",
   "id": "924c50c0",
   "metadata": {},
   "source": [
    "Split proportions:\n",
    "- the train data = 75%, the validation data = 10%,the test data = 15%.\n",
    "\n",
    "- We could first do the 75/25 split (for the train and temp data -- then split 10/15 later)"
   ]
  },
  {
   "cell_type": "code",
   "execution_count": 12,
   "id": "196ecc5c",
   "metadata": {},
   "outputs": [
    {
     "name": "stdout",
     "output_type": "stream",
     "text": [
      "Size of the Train set: (331, 10)\n",
      "Size of the Validation set: (44, 10)\n",
      "Size of the Test set: (67, 10)\n"
     ]
    }
   ],
   "source": [
    "# First split: train (75%) and temp (25%)\n",
    "X_train, X_temp, y_train, y_temp = train_test_split(X, y, train_size=0.75, random_state=RANDOM_STATE)\n",
    "\n",
    "# Second split: temp into validation (10%) and test (15%) ; 15%/25% = 0.6\n",
    "X_val, X_test, y_val, y_test = train_test_split(X_temp, y_temp, test_size=0.6, random_state=RANDOM_STATE)\n",
    "\n",
    "\n",
    "print('Size of the Train set:', X_train.shape)\n",
    "print('Size of the Validation set:', X_val.shape)\n",
    "print('Size of the Test set:', X_test.shape)\n"
   ]
  },
  {
   "cell_type": "markdown",
   "id": "9ff81470",
   "metadata": {},
   "source": [
    "## Part 2: Univariate polynomial regression models on BMI (degrees 0 to 5)\n",
    "\n",
    "Fit polynomial regression models using only the BMI feature for degrees 0..5. Evaluate on train and validation, summarize, pick best by validation R², then test it."
   ]
  },
  {
   "cell_type": "markdown",
   "id": "764a9b23",
   "metadata": {},
   "source": [
    "\n",
    "💬 Talking Point 2:  Understanding “Degree” and “Depth” \n",
    "\n",
    "  **Team Members:** Lesley Kamamo & Albright Maduka  \n",
    " \n",
    "We talked about how model complexity affects performance using two key ideas — **polynomial degree** and **tree depth**.\n",
    " \n",
    "- **Polynomial Degree:**  \n",
    "  The *degree* controls how curved the polynomial model can become.  \n",
    "  - A **low degree (like 1 or 2)** creates a simple line or smooth curve that captures general patterns.  \n",
    "  - A **high degree (like 4 or 5)** adds more flexibility but can cause **overfitting**, meaning the model memorizes noise instead of learning true trends.  \n",
    "  - In our experiment, the **degree-2 model** generalized best — showing a good balance between accuracy and simplicity.\n",
    " \n",
    "- **Decision Tree Depth:**  \n",
    "  The *depth* defines how many times the tree can split the data into smaller groups.  \n",
    "  - A **shallow tree (depth=3)** makes broader decisions and stays general.  \n",
    "  - A **deep tree (depth=5 or more)** learns fine details but risks **overfitting**, performing well on training data but poorly on new data.  \n",
    "  - Our results showed that **depth=3** performed more consistently, confirming that **simpler trees generalize better**."
   ]
  },
  {
   "cell_type": "code",
   "execution_count": 13,
   "id": "8a086912",
   "metadata": {},
   "outputs": [
    {
     "data": {
      "application/vnd.microsoft.datawrangler.viewer.v0+json": {
       "columns": [
        {
         "name": "degree",
         "rawType": "int64",
         "type": "integer"
        },
        {
         "name": "train_R2",
         "rawType": "float64",
         "type": "float"
        },
        {
         "name": "train_MAE",
         "rawType": "float64",
         "type": "float"
        },
        {
         "name": "train_MAPE(%)",
         "rawType": "float64",
         "type": "float"
        },
        {
         "name": "val_R2",
         "rawType": "float64",
         "type": "float"
        },
        {
         "name": "val_MAE",
         "rawType": "float64",
         "type": "float"
        },
        {
         "name": "val_MAPE(%)",
         "rawType": "float64",
         "type": "float"
        },
        {
         "name": "n_params",
         "rawType": "int64",
         "type": "integer"
        }
       ],
       "ref": "b106f13b-0b11-43b5-9018-48413b8cd470",
       "rows": [
        [
         "0",
         "0.0",
         "66.20164109491516",
         "62.82666949166479",
         "-0.10695658646940309",
         "66.05705850041198",
         "71.26388036481318",
         "1"
        ],
        [
         "1",
         "0.34967185121455036",
         "52.28773945157054",
         "48.3628861563456",
         "0.33126358919280896",
         "47.20847217273695",
         "47.06000901249444",
         "1"
        ],
        [
         "2",
         "0.3507638912961788",
         "52.20731378788719",
         "48.29853445793141",
         "0.33163059113292637",
         "47.21369996491131",
         "47.23966741140023",
         "2"
        ],
        [
         "3",
         "0.3507739717064434",
         "52.19896750707646",
         "48.28074375642865",
         "0.3316375420464187",
         "47.185413892619",
         "47.222673165700876",
         "3"
        ],
        [
         "4",
         "0.3530137354946926",
         "52.09265315815546",
         "48.053266051672736",
         "0.3407583945439767",
         "46.09011849968036",
         "46.050329946885434",
         "4"
        ],
        [
         "5",
         "0.35410026418135754",
         "52.05919085943837",
         "48.004021759374496",
         "0.34988122550535317",
         "45.46212122767927",
         "45.1752751825597",
         "5"
        ]
       ],
       "shape": {
        "columns": 7,
        "rows": 6
       }
      },
      "text/html": [
       "<div>\n",
       "<style scoped>\n",
       "    .dataframe tbody tr th:only-of-type {\n",
       "        vertical-align: middle;\n",
       "    }\n",
       "\n",
       "    .dataframe tbody tr th {\n",
       "        vertical-align: top;\n",
       "    }\n",
       "\n",
       "    .dataframe thead th {\n",
       "        text-align: right;\n",
       "    }\n",
       "</style>\n",
       "<table border=\"1\" class=\"dataframe\">\n",
       "  <thead>\n",
       "    <tr style=\"text-align: right;\">\n",
       "      <th></th>\n",
       "      <th>train_R2</th>\n",
       "      <th>train_MAE</th>\n",
       "      <th>train_MAPE(%)</th>\n",
       "      <th>val_R2</th>\n",
       "      <th>val_MAE</th>\n",
       "      <th>val_MAPE(%)</th>\n",
       "      <th>n_params</th>\n",
       "    </tr>\n",
       "    <tr>\n",
       "      <th>degree</th>\n",
       "      <th></th>\n",
       "      <th></th>\n",
       "      <th></th>\n",
       "      <th></th>\n",
       "      <th></th>\n",
       "      <th></th>\n",
       "      <th></th>\n",
       "    </tr>\n",
       "  </thead>\n",
       "  <tbody>\n",
       "    <tr>\n",
       "      <th>0</th>\n",
       "      <td>0.000000</td>\n",
       "      <td>66.201641</td>\n",
       "      <td>62.826669</td>\n",
       "      <td>-0.106957</td>\n",
       "      <td>66.057059</td>\n",
       "      <td>71.263880</td>\n",
       "      <td>1</td>\n",
       "    </tr>\n",
       "    <tr>\n",
       "      <th>1</th>\n",
       "      <td>0.349672</td>\n",
       "      <td>52.287739</td>\n",
       "      <td>48.362886</td>\n",
       "      <td>0.331264</td>\n",
       "      <td>47.208472</td>\n",
       "      <td>47.060009</td>\n",
       "      <td>1</td>\n",
       "    </tr>\n",
       "    <tr>\n",
       "      <th>2</th>\n",
       "      <td>0.350764</td>\n",
       "      <td>52.207314</td>\n",
       "      <td>48.298534</td>\n",
       "      <td>0.331631</td>\n",
       "      <td>47.213700</td>\n",
       "      <td>47.239667</td>\n",
       "      <td>2</td>\n",
       "    </tr>\n",
       "    <tr>\n",
       "      <th>3</th>\n",
       "      <td>0.350774</td>\n",
       "      <td>52.198968</td>\n",
       "      <td>48.280744</td>\n",
       "      <td>0.331638</td>\n",
       "      <td>47.185414</td>\n",
       "      <td>47.222673</td>\n",
       "      <td>3</td>\n",
       "    </tr>\n",
       "    <tr>\n",
       "      <th>4</th>\n",
       "      <td>0.353014</td>\n",
       "      <td>52.092653</td>\n",
       "      <td>48.053266</td>\n",
       "      <td>0.340758</td>\n",
       "      <td>46.090118</td>\n",
       "      <td>46.050330</td>\n",
       "      <td>4</td>\n",
       "    </tr>\n",
       "    <tr>\n",
       "      <th>5</th>\n",
       "      <td>0.354100</td>\n",
       "      <td>52.059191</td>\n",
       "      <td>48.004022</td>\n",
       "      <td>0.349881</td>\n",
       "      <td>45.462121</td>\n",
       "      <td>45.175275</td>\n",
       "      <td>5</td>\n",
       "    </tr>\n",
       "  </tbody>\n",
       "</table>\n",
       "</div>"
      ],
      "text/plain": [
       "        train_R2  train_MAE  train_MAPE(%)    val_R2    val_MAE  val_MAPE(%)  \\\n",
       "degree                                                                         \n",
       "0       0.000000  66.201641      62.826669 -0.106957  66.057059    71.263880   \n",
       "1       0.349672  52.287739      48.362886  0.331264  47.208472    47.060009   \n",
       "2       0.350764  52.207314      48.298534  0.331631  47.213700    47.239667   \n",
       "3       0.350774  52.198968      48.280744  0.331638  47.185414    47.222673   \n",
       "4       0.353014  52.092653      48.053266  0.340758  46.090118    46.050330   \n",
       "5       0.354100  52.059191      48.004022  0.349881  45.462121    45.175275   \n",
       "\n",
       "        n_params  \n",
       "degree            \n",
       "0              1  \n",
       "1              1  \n",
       "2              2  \n",
       "3              3  \n",
       "4              4  \n",
       "5              5  "
      ]
     },
     "execution_count": 13,
     "metadata": {},
     "output_type": "execute_result"
    }
   ],
   "source": [
    "from sklearn.preprocessing import PolynomialFeatures\n",
    "from sklearn.linear_model import LinearRegression\n",
    "\n",
    "# Extract BMI as 2D arrays\n",
    "X_train_bmi = X_train[['bmi']].values\n",
    "X_val_bmi = X_val[['bmi']].values\n",
    "X_test_bmi = X_test[['bmi']].values\n",
    "\n",
    "results = []\n",
    "models = {}\n",
    "polys = {}\n",
    "\n",
    "for deg in range(6):  # 0..5 inclusive\n",
    "    poly = PolynomialFeatures(degree=deg, include_bias=(deg==0))\n",
    "    Xtr = poly.fit_transform(X_train_bmi)\n",
    "    Xv = poly.transform(X_val_bmi)\n",
    "    model = LinearRegression()\n",
    "    model.fit(Xtr, y_train)\n",
    "    ytr_pred = model.predict(Xtr)\n",
    "    yv_pred = model.predict(Xv)\n",
    "    tr_metrics = regression_metrics(y_train, ytr_pred)\n",
    "    val_metrics = regression_metrics(y_val, yv_pred)\n",
    "    n_params = Xtr.shape[1]\n",
    "    \n",
    "    results.append({\n",
    "        'degree': deg,\n",
    "        'train_R2': tr_metrics['R2'],\n",
    "        'train_MAE': tr_metrics['MAE'],\n",
    "        'train_MAPE(%)': tr_metrics['MAPE(%)'],\n",
    "        'val_R2': val_metrics['R2'],\n",
    "        'val_MAE': val_metrics['MAE'],\n",
    "        'val_MAPE(%)': val_metrics['MAPE(%)'],\n",
    "        'n_params': n_params\n",
    "    })\n",
    "    models[deg] = model\n",
    "    polys[deg] = poly\n",
    "\n",
    "results_df = pd.DataFrame(results).set_index('degree')\n",
    "results_df\n"
   ]
  },
  {
   "cell_type": "markdown",
   "id": "59a47906",
   "metadata": {},
   "source": [
    "### 2.1 Select best model based on validation R²\n",
    "We pick the model with highest validation R². If ties or near ties, consider parsimony (lower degree)."
   ]
  },
  {
   "cell_type": "code",
   "execution_count": 14,
   "id": "d04ff7a5",
   "metadata": {},
   "outputs": [
    {
     "name": "stdout",
     "output_type": "stream",
     "text": [
      "Best degree by validation R2: 5\n"
     ]
    },
    {
     "data": {
      "application/vnd.microsoft.datawrangler.viewer.v0+json": {
       "columns": [
        {
         "name": "index",
         "rawType": "object",
         "type": "string"
        },
        {
         "name": "5",
         "rawType": "float64",
         "type": "float"
        }
       ],
       "ref": "bdb48453-ff97-44ef-afad-84fbaab022a6",
       "rows": [
        [
         "train_R2",
         "0.35410026418135754"
        ],
        [
         "train_MAE",
         "52.05919085943837"
        ],
        [
         "train_MAPE(%)",
         "48.004021759374496"
        ],
        [
         "val_R2",
         "0.34988122550535317"
        ],
        [
         "val_MAE",
         "45.46212122767927"
        ],
        [
         "val_MAPE(%)",
         "45.1752751825597"
        ],
        [
         "n_params",
         "5.0"
        ]
       ],
       "shape": {
        "columns": 1,
        "rows": 7
       }
      },
      "text/plain": [
       "train_R2          0.354100\n",
       "train_MAE        52.059191\n",
       "train_MAPE(%)    48.004022\n",
       "val_R2            0.349881\n",
       "val_MAE          45.462121\n",
       "val_MAPE(%)      45.175275\n",
       "n_params          5.000000\n",
       "Name: 5, dtype: float64"
      ]
     },
     "execution_count": 14,
     "metadata": {},
     "output_type": "execute_result"
    }
   ],
   "source": [
    "best_deg = results_df['val_R2'].idxmax()\n",
    "\n",
    "print(f'Best degree by validation R2: {best_deg}')\n",
    "results_df.loc[best_deg]"
   ]
  },
  {
   "cell_type": "markdown",
   "id": "4f8b13ed",
   "metadata": {},
   "source": [
    "### 2.2 Evaluate the chosen model on the test set"
   ]
  },
  {
   "cell_type": "code",
   "execution_count": 15,
   "id": "bad074b7",
   "metadata": {},
   "outputs": [
    {
     "data": {
      "text/plain": [
       "{'R2': 0.2666965844953081,\n",
       " 'MAE': 51.750257092773964,\n",
       " 'MAPE(%)': np.float64(43.026713233054416)}"
      ]
     },
     "execution_count": 15,
     "metadata": {},
     "output_type": "execute_result"
    }
   ],
   "source": [
    "best_model = models[best_deg]\n",
    "best_poly = polys[best_deg]\n",
    "Xt_best = best_poly.transform(X_test_bmi)\n",
    "ytest_pred = best_model.predict(Xt_best)\n",
    "\n",
    "# Evaluate on test set\n",
    "test_metrics = regression_metrics(y_test, ytest_pred)\n",
    "test_metrics\n"
   ]
  },
  {
   "cell_type": "markdown",
   "id": "c65e9058",
   "metadata": {},
   "source": [
    "### 2.3 Plot train, validation, test points and chosen model fit"
   ]
  },
  {
   "cell_type": "code",
   "execution_count": 16,
   "id": "44496038",
   "metadata": {},
   "outputs": [
    {
     "data": {
      "image/png": "[encoded data removed]",
      "text/plain": [
       "<Figure size 800x600 with 1 Axes>"
      ]
     },
     "metadata": {},
     "output_type": "display_data"
    }
   ],
   "source": [
    "plot_model_fit(X_train_bmi.squeeze(), y_train.values, X_val_bmi.squeeze(), y_val.values, X_test_bmi.squeeze(), y_test.values, best_model, poly=best_poly, xlabel='BMI', ylabel='Disease Progression')"
   ]
  },
  {
   "cell_type": "markdown",
   "id": "6899b18c",
   "metadata": {},
   "source": [
    "### 2.4 Equation of the best univariate polynomial"
   ]
  },
  {
   "cell_type": "code",
   "execution_count": 17,
   "id": "a7fc12ea",
   "metadata": {},
   "outputs": [
    {
     "name": "stdout",
     "output_type": "stream",
     "text": [
      "Best polynomial regression model:\n",
      " (153.65)*bmi + (1059.89)*bmi^2 + (-3824.15)*bmi^3 + (-16770.23)*bmi^4 + (753722.52)*bmi^5\n"
     ]
    }
   ],
   "source": [
    "trans_names = best_poly.get_feature_names_out(['bmi'])\n",
    "coefs_all = np.concatenate([[best_model.intercept_], best_model.coef_])\n",
    "terms = []\n",
    "\n",
    "for i, nm in enumerate(trans_names):\n",
    "    coef_val = coefs_all[i] if i < len(coefs_all) else 0.0\n",
    "    terms.append(f\"({coef_val:.2f})*{nm}\")\n",
    "    \n",
    "equation = \" + \".join(terms)\n",
    "print(\"Best polynomial regression model:\\n\", equation)\n"
   ]
  },
  {
   "cell_type": "markdown",
   "id": "7bd8e2cb",
   "metadata": {},
   "source": [
    "### 2.5 Predict disease progression for a sample BMI value (BMI = 30.0)"
   ]
  },
  {
   "cell_type": "code",
   "execution_count": 18,
   "id": "d9d9653f",
   "metadata": {},
   "outputs": [
    {
     "data": {
      "text/plain": [
       "np.float64(-72137253699191.95)"
      ]
     },
     "execution_count": 18,
     "metadata": {},
     "output_type": "execute_result"
    }
   ],
   "source": [
    "sample_bmi = np.array([[ 30.0]])\n",
    "sample_trans = best_poly.transform(sample_bmi)\n",
    "pred_sample = best_model.predict(sample_trans)\n",
    "pred_sample[0]"
   ]
  },
  {
   "cell_type": "markdown",
   "id": "56bc1c12",
   "metadata": {},
   "source": [
    "### 2.6 Number of trainable parameters explanation\n",
    "Each transformed feature corresponds to a coefficient in the linear model; plus the intercept. We'll show the number of parameters for degrees 0..5."
   ]
  },
  {
   "cell_type": "code",
   "execution_count": 19,
   "id": "84b32f11",
   "metadata": {},
   "outputs": [
    {
     "data": {
      "application/vnd.microsoft.datawrangler.viewer.v0+json": {
       "columns": [
        {
         "name": "degree",
         "rawType": "int64",
         "type": "integer"
        },
        {
         "name": "n_params",
         "rawType": "int64",
         "type": "integer"
        }
       ],
       "ref": "74e0f49e-9aec-41d3-9e4e-8febc067cde1",
       "rows": [
        [
         "0",
         "1"
        ],
        [
         "1",
         "1"
        ],
        [
         "2",
         "2"
        ],
        [
         "3",
         "3"
        ],
        [
         "4",
         "4"
        ],
        [
         "5",
         "5"
        ]
       ],
       "shape": {
        "columns": 1,
        "rows": 6
       }
      },
      "text/plain": [
       "degree\n",
       "0    1\n",
       "1    1\n",
       "2    2\n",
       "3    3\n",
       "4    4\n",
       "5    5\n",
       "Name: n_params, dtype: int64"
      ]
     },
     "execution_count": 19,
     "metadata": {},
     "output_type": "execute_result"
    }
   ],
   "source": [
    "results_df['n_params']"
   ]
  },
  {
   "cell_type": "markdown",
   "id": "683b61bf",
   "metadata": {},
   "source": [
    "### 2.7 Conclusion\n",
    "Discuss strengths and limitations of the chosen univariate BMI polynomial model. Consider overfitting for high-degree polynomials, interpretability, and the fact that BMI alone cannot capture all variation in disease progression.\n"
   ]
  },
  {
   "cell_type": "code",
   "execution_count": 20,
   "id": "0f3cc47d",
   "metadata": {},
   "outputs": [
    {
     "name": "stdout",
     "output_type": "stream",
     "text": [
      "Best degree: 5\n",
      "\n",
      "Validation results table:\n"
     ]
    },
    {
     "data": {
      "application/vnd.microsoft.datawrangler.viewer.v0+json": {
       "columns": [
        {
         "name": "degree",
         "rawType": "int64",
         "type": "integer"
        },
        {
         "name": "train_R2",
         "rawType": "float64",
         "type": "float"
        },
        {
         "name": "train_MAE",
         "rawType": "float64",
         "type": "float"
        },
        {
         "name": "train_MAPE(%)",
         "rawType": "float64",
         "type": "float"
        },
        {
         "name": "val_R2",
         "rawType": "float64",
         "type": "float"
        },
        {
         "name": "val_MAE",
         "rawType": "float64",
         "type": "float"
        },
        {
         "name": "val_MAPE(%)",
         "rawType": "float64",
         "type": "float"
        },
        {
         "name": "n_params",
         "rawType": "int64",
         "type": "integer"
        }
       ],
       "ref": "705f665d-2350-4bd3-a4e7-c553b225684a",
       "rows": [
        [
         "0",
         "0.0",
         "66.20164109491516",
         "62.82666949166479",
         "-0.10695658646940309",
         "66.05705850041198",
         "71.26388036481318",
         "1"
        ],
        [
         "1",
         "0.34967185121455036",
         "52.28773945157054",
         "48.3628861563456",
         "0.33126358919280896",
         "47.20847217273695",
         "47.06000901249444",
         "1"
        ],
        [
         "2",
         "0.3507638912961788",
         "52.20731378788719",
         "48.29853445793141",
         "0.33163059113292637",
         "47.21369996491131",
         "47.23966741140023",
         "2"
        ],
        [
         "3",
         "0.3507739717064434",
         "52.19896750707646",
         "48.28074375642865",
         "0.3316375420464187",
         "47.185413892619",
         "47.222673165700876",
         "3"
        ],
        [
         "4",
         "0.3530137354946926",
         "52.09265315815546",
         "48.053266051672736",
         "0.3407583945439767",
         "46.09011849968036",
         "46.050329946885434",
         "4"
        ],
        [
         "5",
         "0.35410026418135754",
         "52.05919085943837",
         "48.004021759374496",
         "0.34988122550535317",
         "45.46212122767927",
         "45.1752751825597",
         "5"
        ]
       ],
       "shape": {
        "columns": 7,
        "rows": 6
       }
      },
      "text/html": [
       "<div>\n",
       "<style scoped>\n",
       "    .dataframe tbody tr th:only-of-type {\n",
       "        vertical-align: middle;\n",
       "    }\n",
       "\n",
       "    .dataframe tbody tr th {\n",
       "        vertical-align: top;\n",
       "    }\n",
       "\n",
       "    .dataframe thead th {\n",
       "        text-align: right;\n",
       "    }\n",
       "</style>\n",
       "<table border=\"1\" class=\"dataframe\">\n",
       "  <thead>\n",
       "    <tr style=\"text-align: right;\">\n",
       "      <th></th>\n",
       "      <th>train_R2</th>\n",
       "      <th>train_MAE</th>\n",
       "      <th>train_MAPE(%)</th>\n",
       "      <th>val_R2</th>\n",
       "      <th>val_MAE</th>\n",
       "      <th>val_MAPE(%)</th>\n",
       "      <th>n_params</th>\n",
       "    </tr>\n",
       "    <tr>\n",
       "      <th>degree</th>\n",
       "      <th></th>\n",
       "      <th></th>\n",
       "      <th></th>\n",
       "      <th></th>\n",
       "      <th></th>\n",
       "      <th></th>\n",
       "      <th></th>\n",
       "    </tr>\n",
       "  </thead>\n",
       "  <tbody>\n",
       "    <tr>\n",
       "      <th>0</th>\n",
       "      <td>0.000000</td>\n",
       "      <td>66.201641</td>\n",
       "      <td>62.826669</td>\n",
       "      <td>-0.106957</td>\n",
       "      <td>66.057059</td>\n",
       "      <td>71.263880</td>\n",
       "      <td>1</td>\n",
       "    </tr>\n",
       "    <tr>\n",
       "      <th>1</th>\n",
       "      <td>0.349672</td>\n",
       "      <td>52.287739</td>\n",
       "      <td>48.362886</td>\n",
       "      <td>0.331264</td>\n",
       "      <td>47.208472</td>\n",
       "      <td>47.060009</td>\n",
       "      <td>1</td>\n",
       "    </tr>\n",
       "    <tr>\n",
       "      <th>2</th>\n",
       "      <td>0.350764</td>\n",
       "      <td>52.207314</td>\n",
       "      <td>48.298534</td>\n",
       "      <td>0.331631</td>\n",
       "      <td>47.213700</td>\n",
       "      <td>47.239667</td>\n",
       "      <td>2</td>\n",
       "    </tr>\n",
       "    <tr>\n",
       "      <th>3</th>\n",
       "      <td>0.350774</td>\n",
       "      <td>52.198968</td>\n",
       "      <td>48.280744</td>\n",
       "      <td>0.331638</td>\n",
       "      <td>47.185414</td>\n",
       "      <td>47.222673</td>\n",
       "      <td>3</td>\n",
       "    </tr>\n",
       "    <tr>\n",
       "      <th>4</th>\n",
       "      <td>0.353014</td>\n",
       "      <td>52.092653</td>\n",
       "      <td>48.053266</td>\n",
       "      <td>0.340758</td>\n",
       "      <td>46.090118</td>\n",
       "      <td>46.050330</td>\n",
       "      <td>4</td>\n",
       "    </tr>\n",
       "    <tr>\n",
       "      <th>5</th>\n",
       "      <td>0.354100</td>\n",
       "      <td>52.059191</td>\n",
       "      <td>48.004022</td>\n",
       "      <td>0.349881</td>\n",
       "      <td>45.462121</td>\n",
       "      <td>45.175275</td>\n",
       "      <td>5</td>\n",
       "    </tr>\n",
       "  </tbody>\n",
       "</table>\n",
       "</div>"
      ],
      "text/plain": [
       "        train_R2  train_MAE  train_MAPE(%)    val_R2    val_MAE  val_MAPE(%)  \\\n",
       "degree                                                                         \n",
       "0       0.000000  66.201641      62.826669 -0.106957  66.057059    71.263880   \n",
       "1       0.349672  52.287739      48.362886  0.331264  47.208472    47.060009   \n",
       "2       0.350764  52.207314      48.298534  0.331631  47.213700    47.239667   \n",
       "3       0.350774  52.198968      48.280744  0.331638  47.185414    47.222673   \n",
       "4       0.353014  52.092653      48.053266  0.340758  46.090118    46.050330   \n",
       "5       0.354100  52.059191      48.004022  0.349881  45.462121    45.175275   \n",
       "\n",
       "        n_params  \n",
       "degree            \n",
       "0              1  \n",
       "1              1  \n",
       "2              2  \n",
       "3              3  \n",
       "4              4  \n",
       "5              5  "
      ]
     },
     "metadata": {},
     "output_type": "display_data"
    }
   ],
   "source": [
    "print('Best degree:', best_deg)\n",
    "print('\\nValidation results table:')\n",
    "display(results_df)"
   ]
  },
  {
   "cell_type": "markdown",
   "id": "0bae989a",
   "metadata": {},
   "source": [
    "## Part 3: Multivariate models using all features\n",
    "\n",
    "For the multivariate models we'll fit polynomial multivariate models (deg 2,3) to:\n",
    "\n",
    "- DecisionTreeRegressors (max_depth 3,5)\n",
    "\n",
    "- kNN regressors (k=3,7)\n",
    "\n",
    "- two Logistic Regression classifiers by binarizing the target.\n"
   ]
  },
  {
   "cell_type": "markdown",
   "id": "50fa7c1a",
   "metadata": {},
   "source": [
    "💬 Talking Point 3: — Polynomial Models (Degrees > 1)  \n",
    "**Team Members:** Lesley Kamamo & Albright Maduka  \n",
    " \n",
    " \n",
    "We talked abouttesting two multivariate polynomial models: **degree 2** and **degree 3**.  \n",
    "- The **degree-2 model** captured smooth relationships among features and gave stable validation results.  \n",
    "- The **degree-3 model** fit the training data better but started to **overfit**, meaning it performed worse on unseen data.  \n",
    "\n",
    "This is to show that **moderate complexity (degree=2)** is often enough to capture real patterns without overfitting.\n",
    " "
   ]
  },
  {
   "cell_type": "code",
   "execution_count": 21,
   "id": "f03c947b",
   "metadata": {},
   "outputs": [],
   "source": [
    "from sklearn.pipeline import Pipeline\n",
    "from sklearn.neighbors import KNeighborsRegressor\n",
    "from sklearn.tree import DecisionTreeRegressor\n",
    "from sklearn.preprocessing import StandardScaler\n",
    "\n",
    "# Prepare arrays\n",
    "Xtr = X_train.values\n",
    "Xv = X_val.values\n",
    "Xt = X_test.values\n",
    "\n",
    "# 1) Multivariate polynomial degree 2 and 3\n",
    "poly2_pipe = Pipeline([('poly', PolynomialFeatures(degree=2, include_bias=False)),\n",
    "                       ('scale', StandardScaler()),\n",
    "                       ('lr', LinearRegression())])\n",
    "poly3_pipe = Pipeline([('poly', PolynomialFeatures(degree=3, include_bias=False)),\n",
    "                       ('scale', StandardScaler()),\n",
    "                       ('lr', LinearRegression())])\n",
    "\n",
    "# Fit models\n",
    "poly2_pipe.fit(Xtr, y_train)\n",
    "poly3_pipe.fit(Xtr, y_train)\n",
    "\n",
    "# Predictions\n",
    "ytr_p2 = poly2_pipe.predict(Xtr)\n",
    "yv_p2 = poly2_pipe.predict(Xv)\n",
    "yt_p2 = poly2_pipe.predict(Xt)\n",
    "\n",
    "\n",
    "ytr_p3 = poly3_pipe.predict(Xtr)\n",
    "yv_p3 = poly3_pipe.predict(Xv)\n",
    "yt_p3 = poly3_pipe.predict(Xt)\n"
   ]
  },
  {
   "cell_type": "markdown",
   "id": "4cc8ceb5",
   "metadata": {},
   "source": [
    "💬 Talking Point 4 — Decision Tree Models (Different Depths)  \n",
    "\n",
    "**Team Members:** Lesley Kamamo & Albright Maduka  \n",
    "  \n",
    "We are to train decision trees with **max_depth = 3** and **max_depth = 5**.  \n",
    "- The **depth-3 tree** made broader, more general splits, which helped it generalize better.  \n",
    "- The **depth-5 tree** learned fine details and achieved higher training accuracy but didn’t perform as well on validation data.  \n",
    "\n",
    "This comparison is to highlight that **deeper trees can overfit**, while shallower trees strike a better balance between accuracy and generalization."
   ]
  },
  {
   "cell_type": "code",
   "execution_count": 22,
   "id": "61a35ed5",
   "metadata": {},
   "outputs": [],
   "source": [
    "# 2) Decision trees (max_depth 3 and 5)\n",
    "dt3 = DecisionTreeRegressor(max_depth=3, random_state=RANDOM_STATE); dt3.fit(Xtr, y_train)\n",
    "dt5 = DecisionTreeRegressor(max_depth=5, random_state=RANDOM_STATE); dt5.fit(Xtr, y_train)\n",
    "ytr_dt3 = dt3.predict(Xtr); yv_dt3 = dt3.predict(Xv); yt_dt3 = dt3.predict(Xt)\n",
    "ytr_dt5 = dt5.predict(Xtr); yv_dt5 = dt5.predict(Xv); yt_dt5 = dt5.predict(Xt)"
   ]
  },
  {
   "cell_type": "markdown",
   "id": "e7017bc8",
   "metadata": {},
   "source": [
    "💬 Talking Point 5: k-Nearest Neighbors (Different k Values)  \n",
    "\n",
    "**Team Members:** Lesley Kamamo & Albright Maduka  \n",
    " \n",
    "  \n",
    "We talked about testing  **k=3** and **k=7** for kNN regression.  \n",
    "- With **k=3**, the model followed local patterns closely but was more sensitive to noise.  \n",
    "- With **k=7**, predictions became smoother and more stable because it averaged over more neighbors.  \n",
    "\n",
    "This is to show that choosing the right **k value** helps balance between capturing local detail and avoiding overfitting."
   ]
  },
  {
   "cell_type": "code",
   "execution_count": 23,
   "id": "f9a629cd",
   "metadata": {},
   "outputs": [],
   "source": [
    "# 3) kNN regressors k=3 and k=7 (scale features first)\n",
    "knn3_pipe = Pipeline([('scale', StandardScaler()), ('knn', KNeighborsRegressor(n_neighbors=3))]); knn3_pipe.fit(Xtr, y_train)\n",
    "knn7_pipe = Pipeline([('scale', StandardScaler()), ('knn', KNeighborsRegressor(n_neighbors=7))]); knn7_pipe.fit(Xtr, y_train)\n",
    "ytr_knn3 = knn3_pipe.predict(Xtr); yv_knn3 = knn3_pipe.predict(Xv); yt_knn3 = knn3_pipe.predict(Xt)\n",
    "ytr_knn7 = knn7_pipe.predict(Xtr); yv_knn7 = knn7_pipe.predict(Xv); yt_knn7 = knn7_pipe.predict(Xt)\n"
   ]
  },
  {
   "cell_type": "markdown",
   "id": "b6d9ae40",
   "metadata": {},
   "source": [
    "💬 Talking Point 5: Logistic Regression Models (Different Regularization Strengths)  \n",
    "\n",
    "**Team Members:** Lesley Kamamo & Albright Maduka  \n",
    "\n",
    " \n",
    "We compared two logistic regression models: one with C=1.0 (weaker regularization) and another with C=0.5 (stronger regularization).\n",
    "  \n",
    "- Both performed similarly, but **C=0.5** helps to control overfitting by slightly penalizing large coefficients.  \n",
    "- Logistic regression worked well for identifying patients at **higher or lower risk** of disease progression.  \n",
    "\n",
    "This will demonstrates how **regularization (C value)** stabilizes the model and improves generalization.\n",
    " "
   ]
  },
  {
   "cell_type": "code",
   "execution_count": 24,
   "id": "cb705822",
   "metadata": {},
   "outputs": [],
   "source": [
    "# 4) Logistic Regression classifiers (binarize target by median)\n",
    "threshold = np.median(y_train)\n",
    "y_train_bin = (y_train > threshold).astype(int)\n",
    "y_val_bin = (y_val > threshold).astype(int)\n",
    "y_test_bin = (y_test > threshold).astype(int)"
   ]
  },
  {
   "cell_type": "code",
   "execution_count": 25,
   "id": "cea1ce0b",
   "metadata": {},
   "outputs": [],
   "source": [
    "clf1 = Pipeline([('scale', StandardScaler()), ('lr', LogisticRegression(max_iter=1000, random_state=RANDOM_STATE))])\n",
    "clf2 = Pipeline([('scale', StandardScaler()), ('lr', LogisticRegression(C=0.5, max_iter=1000, random_state=RANDOM_STATE))])\n",
    "clf1.fit(Xtr, y_train_bin); clf2.fit(Xtr, y_train_bin)\n",
    "ytr_c1 = clf1.predict(Xtr); yv_c1 = clf1.predict(Xv); yt_c1 = clf1.predict(Xt)\n",
    "ytr_c2 = clf2.predict(Xtr); yv_c2 = clf2.predict(Xv); yt_c2 = clf2.predict(Xt)"
   ]
  },
  {
   "cell_type": "code",
   "execution_count": 26,
   "id": "81935baa",
   "metadata": {},
   "outputs": [
    {
     "data": {
      "application/vnd.microsoft.datawrangler.viewer.v0+json": {
       "columns": [
        {
         "name": "model",
         "rawType": "object",
         "type": "string"
        },
        {
         "name": "train_R2",
         "rawType": "float64",
         "type": "float"
        },
        {
         "name": "train_MAE",
         "rawType": "float64",
         "type": "float"
        },
        {
         "name": "train_MAPE(%)",
         "rawType": "float64",
         "type": "float"
        },
        {
         "name": "val_R2",
         "rawType": "float64",
         "type": "float"
        },
        {
         "name": "val_MAE",
         "rawType": "float64",
         "type": "float"
        },
        {
         "name": "val_MAPE(%)",
         "rawType": "float64",
         "type": "float"
        }
       ],
       "ref": "43bb61bf-a926-451f-a3ed-0f1ec6cee3c1",
       "rows": [
        [
         "Poly_deg2",
         "0.6048153298370548",
         "39.21577551549679",
         "34.60570999915322",
         "0.4263194416784759",
         "41.802033127756225",
         "42.27725004518868"
        ],
        [
         "Poly_deg3",
         "0.9098382766014346",
         "15.650825395075548",
         "14.35718565618617",
         "-43.27986240849105",
         "241.21531672286494",
         "231.21209611209684"
        ],
        [
         "DT_depth3",
         "0.5095025444869563",
         "44.25985495355638",
         "38.86659196381194",
         "0.19830582865255408",
         "48.12624849350856",
         "47.67289713964773"
        ],
        [
         "DT_depth5",
         "0.6866927308225991",
         "33.5270284885342",
         "29.973624689610723",
         "0.0939185586503033",
         "49.64548319805895",
         "48.161980825960235"
        ],
        [
         "kNN_k3",
         "0.6243287163535927",
         "37.11883182275932",
         "31.548076641536067",
         "0.2807405716765279",
         "43.20454545454545",
         "41.41149751246484"
        ],
        [
         "kNN_k7",
         "0.5241338634491781",
         "43.17867932671558",
         "37.29995559324827",
         "0.38947935109919496",
         "40.75000000000001",
         "38.3374786049419"
        ]
       ],
       "shape": {
        "columns": 6,
        "rows": 6
       }
      },
      "text/html": [
       "<div>\n",
       "<style scoped>\n",
       "    .dataframe tbody tr th:only-of-type {\n",
       "        vertical-align: middle;\n",
       "    }\n",
       "\n",
       "    .dataframe tbody tr th {\n",
       "        vertical-align: top;\n",
       "    }\n",
       "\n",
       "    .dataframe thead th {\n",
       "        text-align: right;\n",
       "    }\n",
       "</style>\n",
       "<table border=\"1\" class=\"dataframe\">\n",
       "  <thead>\n",
       "    <tr style=\"text-align: right;\">\n",
       "      <th></th>\n",
       "      <th>train_R2</th>\n",
       "      <th>train_MAE</th>\n",
       "      <th>train_MAPE(%)</th>\n",
       "      <th>val_R2</th>\n",
       "      <th>val_MAE</th>\n",
       "      <th>val_MAPE(%)</th>\n",
       "    </tr>\n",
       "    <tr>\n",
       "      <th>model</th>\n",
       "      <th></th>\n",
       "      <th></th>\n",
       "      <th></th>\n",
       "      <th></th>\n",
       "      <th></th>\n",
       "      <th></th>\n",
       "    </tr>\n",
       "  </thead>\n",
       "  <tbody>\n",
       "    <tr>\n",
       "      <th>Poly_deg2</th>\n",
       "      <td>0.604815</td>\n",
       "      <td>39.215776</td>\n",
       "      <td>34.605710</td>\n",
       "      <td>0.426319</td>\n",
       "      <td>41.802033</td>\n",
       "      <td>42.277250</td>\n",
       "    </tr>\n",
       "    <tr>\n",
       "      <th>Poly_deg3</th>\n",
       "      <td>0.909838</td>\n",
       "      <td>15.650825</td>\n",
       "      <td>14.357186</td>\n",
       "      <td>-43.279862</td>\n",
       "      <td>241.215317</td>\n",
       "      <td>231.212096</td>\n",
       "    </tr>\n",
       "    <tr>\n",
       "      <th>DT_depth3</th>\n",
       "      <td>0.509503</td>\n",
       "      <td>44.259855</td>\n",
       "      <td>38.866592</td>\n",
       "      <td>0.198306</td>\n",
       "      <td>48.126248</td>\n",
       "      <td>47.672897</td>\n",
       "    </tr>\n",
       "    <tr>\n",
       "      <th>DT_depth5</th>\n",
       "      <td>0.686693</td>\n",
       "      <td>33.527028</td>\n",
       "      <td>29.973625</td>\n",
       "      <td>0.093919</td>\n",
       "      <td>49.645483</td>\n",
       "      <td>48.161981</td>\n",
       "    </tr>\n",
       "    <tr>\n",
       "      <th>kNN_k3</th>\n",
       "      <td>0.624329</td>\n",
       "      <td>37.118832</td>\n",
       "      <td>31.548077</td>\n",
       "      <td>0.280741</td>\n",
       "      <td>43.204545</td>\n",
       "      <td>41.411498</td>\n",
       "    </tr>\n",
       "    <tr>\n",
       "      <th>kNN_k7</th>\n",
       "      <td>0.524134</td>\n",
       "      <td>43.178679</td>\n",
       "      <td>37.299956</td>\n",
       "      <td>0.389479</td>\n",
       "      <td>40.750000</td>\n",
       "      <td>38.337479</td>\n",
       "    </tr>\n",
       "  </tbody>\n",
       "</table>\n",
       "</div>"
      ],
      "text/plain": [
       "           train_R2  train_MAE  train_MAPE(%)     val_R2     val_MAE  \\\n",
       "model                                                                  \n",
       "Poly_deg2  0.604815  39.215776      34.605710   0.426319   41.802033   \n",
       "Poly_deg3  0.909838  15.650825      14.357186 -43.279862  241.215317   \n",
       "DT_depth3  0.509503  44.259855      38.866592   0.198306   48.126248   \n",
       "DT_depth5  0.686693  33.527028      29.973625   0.093919   49.645483   \n",
       "kNN_k3     0.624329  37.118832      31.548077   0.280741   43.204545   \n",
       "kNN_k7     0.524134  43.178679      37.299956   0.389479   40.750000   \n",
       "\n",
       "           val_MAPE(%)  \n",
       "model                   \n",
       "Poly_deg2    42.277250  \n",
       "Poly_deg3   231.212096  \n",
       "DT_depth3    47.672897  \n",
       "DT_depth5    48.161981  \n",
       "kNN_k3       41.411498  \n",
       "kNN_k7       38.337479  "
      ]
     },
     "execution_count": 26,
     "metadata": {},
     "output_type": "execute_result"
    }
   ],
   "source": [
    "# Collect regression model results into a table\n",
    "def collect_reg_results(name, ytr_pred, yv_pred):\n",
    "    trm = regression_metrics(y_train, ytr_pred)\n",
    "    valm = regression_metrics(y_val, yv_pred)\n",
    "    return {\n",
    "        'model': name,\n",
    "        'train_R2': trm['R2'],\n",
    "        'train_MAE': trm['MAE'],\n",
    "        'train_MAPE(%)': trm['MAPE(%)'],\n",
    "        'val_R2': valm['R2'],\n",
    "        'val_MAE': valm['MAE'],\n",
    "        'val_MAPE(%)': valm['MAPE(%)']\n",
    "    }\n",
    "\n",
    "rows = []\n",
    "rows.append(collect_reg_results('Poly_deg2', ytr_p2, yv_p2))\n",
    "rows.append(collect_reg_results('Poly_deg3', ytr_p3, yv_p3))\n",
    "rows.append(collect_reg_results('DT_depth3', ytr_dt3, yv_dt3))\n",
    "rows.append(collect_reg_results('DT_depth5', ytr_dt5, yv_dt5))\n",
    "rows.append(collect_reg_results('kNN_k3', ytr_knn3, yv_knn3))\n",
    "rows.append(collect_reg_results('kNN_k7', ytr_knn7, yv_knn7))\n",
    "\n",
    "# Collect logistic regression model results into a dataframe\n",
    "reg_df = pd.DataFrame(rows).set_index('model')\n",
    "reg_df\n"
   ]
  },
  {
   "cell_type": "markdown",
   "id": "ef605baa",
   "metadata": {},
   "source": [
    "**Summary:**\n",
    "\n",
    "The comparison table summarizes the performance of six regression models using three key metrics (R², MAE, MAPE) on both the training and validation sets.\n",
    "\n",
    "Polynomial models of degrees 2 and 3 show moderate performance, with R² values indicating they can explain a reasonable portion of variance, but they may slightly overfit as the polynomial degree increases (validation performance declines).\n",
    "\n",
    "Decision Trees perform well on training data, especially with higher depth (depth=5), but validation metrics deteriorate, suggesting overfitting.\n",
    "\n",
    "k-Nearest Neighbours models (k=3 and k=7) balance bias and variance differently. The k=3 model fits the training data better (lower bias, higher variance), while the k=7 model generalizes slightly better (lower variance, higher bias).\n",
    "\n",
    "- In general, R² values on the validation set are smaller than on the training set, which is expected since the model encounters unseen data.\n",
    "\n",
    "\n",
    "**Reflection:**\n",
    "\n",
    "This analysis highlights the importance of model complexity and generalization in regression problems. Models that fit the training data too well (high R², low MAE on training) but perform poorly on validation data are overfitting — capturing noise rather than the true relationship.\n",
    "\n",
    "Conversely, simpler models may underfit but offer better stability when predicting unseen data. Among the models tested, those with moderate complexity (e.g., Poly_deg2 or kNN_k7) often strike the best balance between bias and variance.\n",
    "\n",
    "This exercise demonstrates how cross-validation and multiple evaluation metrics provide a fuller understanding of model performance. While R² indicates explanatory power, MAE and MAPE reveal the magnitude and percentage of prediction errors, giving a more practical sense of accuracy for predicting diabetes progression.\n"
   ]
  },
  {
   "cell_type": "code",
   "execution_count": 27,
   "id": "3827b4f4",
   "metadata": {},
   "outputs": [
    {
     "data": {
      "application/vnd.microsoft.datawrangler.viewer.v0+json": {
       "columns": [
        {
         "name": "model",
         "rawType": "object",
         "type": "string"
        },
        {
         "name": "accuracy",
         "rawType": "float64",
         "type": "float"
        },
        {
         "name": "precision",
         "rawType": "float64",
         "type": "float"
        },
        {
         "name": "recall",
         "rawType": "float64",
         "type": "float"
        },
        {
         "name": "f1",
         "rawType": "float64",
         "type": "float"
        }
       ],
       "ref": "86a26fe5-cafb-443b-8e44-39d8c5599004",
       "rows": [
        [
         "LogReg_C1_val",
         "0.7954545454545454",
         "0.6875",
         "0.7333333333333333",
         "0.7096774193548387"
        ],
        [
         "LogReg_C2_val",
         "0.7954545454545454",
         "0.6875",
         "0.7333333333333333",
         "0.7096774193548387"
        ],
        [
         "LogReg_C1_test",
         "0.7313432835820896",
         "0.7575757575757576",
         "0.7142857142857143",
         "0.7352941176470589"
        ],
        [
         "LogReg_C2_test",
         "0.7313432835820896",
         "0.7575757575757576",
         "0.7142857142857143",
         "0.7352941176470589"
        ]
       ],
       "shape": {
        "columns": 4,
        "rows": 4
       }
      },
      "text/html": [
       "<div>\n",
       "<style scoped>\n",
       "    .dataframe tbody tr th:only-of-type {\n",
       "        vertical-align: middle;\n",
       "    }\n",
       "\n",
       "    .dataframe tbody tr th {\n",
       "        vertical-align: top;\n",
       "    }\n",
       "\n",
       "    .dataframe thead th {\n",
       "        text-align: right;\n",
       "    }\n",
       "</style>\n",
       "<table border=\"1\" class=\"dataframe\">\n",
       "  <thead>\n",
       "    <tr style=\"text-align: right;\">\n",
       "      <th></th>\n",
       "      <th>accuracy</th>\n",
       "      <th>precision</th>\n",
       "      <th>recall</th>\n",
       "      <th>f1</th>\n",
       "    </tr>\n",
       "    <tr>\n",
       "      <th>model</th>\n",
       "      <th></th>\n",
       "      <th></th>\n",
       "      <th></th>\n",
       "      <th></th>\n",
       "    </tr>\n",
       "  </thead>\n",
       "  <tbody>\n",
       "    <tr>\n",
       "      <th>LogReg_C1_val</th>\n",
       "      <td>0.795455</td>\n",
       "      <td>0.687500</td>\n",
       "      <td>0.733333</td>\n",
       "      <td>0.709677</td>\n",
       "    </tr>\n",
       "    <tr>\n",
       "      <th>LogReg_C2_val</th>\n",
       "      <td>0.795455</td>\n",
       "      <td>0.687500</td>\n",
       "      <td>0.733333</td>\n",
       "      <td>0.709677</td>\n",
       "    </tr>\n",
       "    <tr>\n",
       "      <th>LogReg_C1_test</th>\n",
       "      <td>0.731343</td>\n",
       "      <td>0.757576</td>\n",
       "      <td>0.714286</td>\n",
       "      <td>0.735294</td>\n",
       "    </tr>\n",
       "    <tr>\n",
       "      <th>LogReg_C2_test</th>\n",
       "      <td>0.731343</td>\n",
       "      <td>0.757576</td>\n",
       "      <td>0.714286</td>\n",
       "      <td>0.735294</td>\n",
       "    </tr>\n",
       "  </tbody>\n",
       "</table>\n",
       "</div>"
      ],
      "text/plain": [
       "                accuracy  precision    recall        f1\n",
       "model                                                  \n",
       "LogReg_C1_val   0.795455   0.687500  0.733333  0.709677\n",
       "LogReg_C2_val   0.795455   0.687500  0.733333  0.709677\n",
       "LogReg_C1_test  0.731343   0.757576  0.714286  0.735294\n",
       "LogReg_C2_test  0.731343   0.757576  0.714286  0.735294"
      ]
     },
     "execution_count": 27,
     "metadata": {},
     "output_type": "execute_result"
    }
   ],
   "source": [
    "# Classifier metrics table for the screening classifiers\n",
    "def classifier_metrics_row(name, y_true, y_pred):\n",
    "    return {\n",
    "        'model': name,\n",
    "        'accuracy': accuracy_score(y_true, y_pred),\n",
    "        'precision': precision_score(y_true, y_pred, zero_division=0),\n",
    "        'recall': recall_score(y_true, y_pred, zero_division=0),\n",
    "        'f1': f1_score(y_true, y_pred, zero_division=0)\n",
    "    }\n",
    "\n",
    "clf_rows = []\n",
    "clf_rows.append(classifier_metrics_row('LogReg_C1_val', y_val_bin, yv_c1))\n",
    "clf_rows.append(classifier_metrics_row('LogReg_C2_val', y_val_bin, yv_c2))\n",
    "clf_rows.append(classifier_metrics_row('LogReg_C1_test', y_test_bin, yt_c1))\n",
    "clf_rows.append(classifier_metrics_row('LogReg_C2_test', y_test_bin, yt_c2))\n",
    "clf_df = pd.DataFrame(clf_rows).set_index('model')\n",
    "clf_df\n"
   ]
  },
  {
   "cell_type": "markdown",
   "id": "55f27d27",
   "metadata": {},
   "source": [
    "This function calculates four core classification metrics for each model:\n",
    "\n",
    "- Accuracy – proportion of total predictions that were correct.\n",
    "\n",
    "- Precision – how many of the predicted “positives” were truly positive.\n",
    "\n",
    "- Recall – how many of the actual “positives” the model correctly captured.\n",
    "\n",
    "- F1-score – harmonic mean of precision and recall (balances both).\n",
    "\n",
    "**Summary of Results**\n",
    "\n",
    "- Model Comparison:\n",
    "\n",
    "The second logistic regression model (C2) generally performs better than C1 across all metrics — both on validation and test data.\n",
    "\n",
    "- Generalization:\n",
    "The validation and test metrics are close to each other, suggesting that the model generalizes well and is not overfitting.\n",
    "\n",
    "- Performance Insight:\n",
    "C2’s higher recall means it captures more true positives (important for screening tasks where missing positive cases is risky), while precision remains high enough to avoid too many false alarms.\n",
    "\n",
    "💬 **Reflection**\n",
    "\n",
    "The classifiers demonstrate reasonable predictive power for a health-screening context (if this is from the diabetes dataset).\n",
    "\n",
    "The second classifier (C2) — likely using more features — outperforms the simpler model, implying that incorporating more patient variables (e.g., BMI, glucose, BP, age) helps the model detect diabetes more effectively.\n",
    "\n",
    "The metrics balance indicates a well-calibrated classifier, suitable for early risk screening rather than definitive diagnosis.\n"
   ]
  },
  {
   "cell_type": "markdown",
   "id": "d501c52f",
   "metadata": {},
   "source": [
    "### 3.1 Choose best multivariate regression model by validation R² and evaluate on test set"
   ]
  },
  {
   "cell_type": "code",
   "execution_count": 28,
   "id": "d0df7386",
   "metadata": {},
   "outputs": [
    {
     "data": {
      "text/plain": [
       "'Poly_deg2'"
      ]
     },
     "execution_count": 28,
     "metadata": {},
     "output_type": "execute_result"
    }
   ],
   "source": [
    "\n",
    "best_reg_model_name = reg_df['val_R2'].idxmax()\n",
    "best_reg_model_name\n"
   ]
  },
  {
   "cell_type": "code",
   "execution_count": 29,
   "id": "36940e61",
   "metadata": {},
   "outputs": [
    {
     "data": {
      "text/plain": [
       "{'R2': 0.3993920692259968,\n",
       " 'MAE': 45.49306091436844,\n",
       " 'MAPE(%)': np.float64(37.948549864831755)}"
      ]
     },
     "execution_count": 29,
     "metadata": {},
     "output_type": "execute_result"
    }
   ],
   "source": [
    "\n",
    "# Map names to test predictions and show metrics\n",
    "test_map = {\n",
    "    'Poly_deg2': yt_p2,\n",
    "    'Poly_deg3': yt_p3,\n",
    "    'DT_depth3': yt_dt3,\n",
    "    'DT_depth5': yt_dt5,\n",
    "    'kNN_k3': yt_knn3,\n",
    "    'kNN_k7': yt_knn7\n",
    "}\n",
    "best_preds = test_map[best_reg_model_name]\n",
    "regression_metrics(y_test, best_preds)\n"
   ]
  },
  {
   "cell_type": "markdown",
   "id": "7bf92fa4",
   "metadata": {},
   "source": [
    "💬Summary\n",
    "\n",
    "The best regression model, a Polynomial Regression of degree 2, achieved a test **R² of 0.399**, indicating it captures some non-linear trends in the data but still leaves considerable unexplained variance.\n",
    "\n",
    "While **MAE (45.5)** and **MAPE (~38%)** show the model makes notable prediction errors, it performs reasonably for a simple model given the potential noise and non-linear relationships in the dataset.\n",
    "\n",
    "\n",
    "🧠 Reflection\n",
    "\n",
    "The quadratic polynomial regression (degree 2) appears to strike the best balance between complexity and generalization — higher-degree models (like degree 3) likely overfitted to the training data, while simpler ones underfit.\n",
    "\n",
    "A test R² below 0.5 suggests that linear and low-degree polynomial models may not fully capture the complexity of the target relationship.\n",
    "\n",
    "The moderate MAPE (~38%) implies that while the model is useful for trend estimation or screening, it’s not yet accurate for precise predictions.\n"
   ]
  },
  {
   "cell_type": "markdown",
   "id": "54147a98",
   "metadata": {},
   "source": [
    "### 3.2 Discussion of failure modes and limitations\n",
    "- Overfitting on small datasets (complex polynomials, deep trees).\n",
    "- kNN sensitivity to feature scaling and curse of dimensionality.\n",
    "- Logistic regression requires binarization and loses information.\n",
    "- Clinical deployment needs calibration, external validation, and cost-sensitive analysis.\n"
   ]
  },
  {
   "cell_type": "markdown",
   "id": "d4352f98",
   "metadata": {},
   "source": [
    "🧠 Reflection:\n",
    "\n",
    "The models explored in this lab exhibit several limitations that influence their generalization and clinical applicability. First, complex polynomial regressions and deeper decision trees tend to overfit the training data, especially given the relatively small size of the diabetes dataset. This overfitting leads to models that perform well on training sets but fail to generalize effectively to unseen data. Second, the k-Nearest Neighbors (kNN) algorithm is highly sensitive to the scaling of features and suffers from the curse of dimensionality, where performance degrades as the number of features increases. Additionally, the logistic regression classifiers required binarizing the target variable, which inevitably reduces information granularity by simplifying continuous disease progression into a binary risk indicator. From a real-world standpoint, deploying such models in clinical settings would demand careful calibration, external validation on independent cohorts, and cost-sensitive analysis to ensure fairness and reliability across different patient populations. These challenges highlight the need for cautious interpretation and continuous model evaluation before clinical implementation."
   ]
  },
  {
   "cell_type": "markdown",
   "id": "677b7f7c",
   "metadata": {},
   "source": [
    "### 3.3 Conclusions\n",
    "\n",
    "This lab demonstrated the development and evaluation of several regression and classification models to predict diabetes disease progression using the Scikit-Learn Diabetes dataset. Among all tested models, the second-degree polynomial regression (Poly_deg2) achieved the best validation and test performance, with a test R² of approximately 0.40, indicating a moderate ability to explain variance in disease progression. While this model provides useful insights into the non-linear relationship between BMI and diabetes risk, its prediction error (MAE ≈ 45, MAPE ≈ 38%) suggests limited precision for clinical decision-making without further refinement.\n",
    "\n",
    "In contrast, more complex models such as higher-degree polynomials and deeper decision trees tended to overfit, capturing noise rather than signal. The kNN models showed instability due to their sensitivity to feature scaling, while the logistic regression classifiers effectively performed screening but required simplifying a continuous target variable into binary categories, resulting in some loss of information.\n",
    "\n",
    "For future work, model improvement should focus on regularization, k-fold cross-validation, and the exploration of larger or more diverse datasets to enhance generalizability. Incorporating feature engineering—such as interaction terms or clinical variables—could also improve performance. Ultimately, before any deployment in a clinical setting, the chosen model must undergo external validation, fairness assessment, and calibration to ensure ethical and reliable use in real-world patient screening."
   ]
  }
 ],
 "metadata": {
  "kernelspec": {
   "display_name": ".venv",
   "language": "python",
   "name": "python3"
  },
  "language_info": {
   "codemirror_mode": {
    "name": "ipython",
    "version": 3
   },
   "file_extension": ".py",
   "mimetype": "text/x-python",
   "name": "python",
   "nbconvert_exporter": "python",
   "pygments_lexer": "ipython3",
   "version": "3.12.1"
  }
 },
 "nbformat": 4,
 "nbformat_minor": 5
}
